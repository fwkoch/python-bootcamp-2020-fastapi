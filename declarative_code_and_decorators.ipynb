{
 "cells": [
  {
   "cell_type": "markdown",
   "metadata": {},
   "source": [
    "# Declarative Code"
   ]
  },
  {
   "cell_type": "markdown",
   "metadata": {},
   "source": [
    "## Start with \"vanilla\" Python"
   ]
  },
  {
   "cell_type": "code",
   "execution_count": 1,
   "metadata": {},
   "outputs": [],
   "source": [
    "class HockeyPoolEntry:\n",
    "    \n",
    "    def __init__(self, name, teams, prediction):\n",
    "        \"\"\"Entry for Franklin's 2020 Hockey Pool\n",
    "        \n",
    "        Inputs:\n",
    "        \n",
    "        name - str - user name\n",
    "        teams - list[str] - three choices of team\n",
    "        prediction - int - predicted total goals at end of season\n",
    "        \"\"\"\n",
    "        self.name = name\n",
    "        self.teams = teams\n",
    "        self.prediction = prediction"
   ]
  },
  {
   "cell_type": "code",
   "execution_count": 2,
   "metadata": {},
   "outputs": [
    {
     "data": {
      "text/plain": [
       "<__main__.HockeyPoolEntry at 0x7fd234b65610>"
      ]
     },
     "execution_count": 2,
     "metadata": {},
     "output_type": "execute_result"
    }
   ],
   "source": [
    "HockeyPoolEntry(\n",
    "    name='Franklin',\n",
    "    teams=['Flames', 'Oilers', 'Jets'],\n",
    "    prediction=700,\n",
    ")"
   ]
  },
  {
   "cell_type": "code",
   "execution_count": 3,
   "metadata": {},
   "outputs": [
    {
     "data": {
      "text/plain": [
       "<__main__.HockeyPoolEntry at 0x7fd234b48f40>"
      ]
     },
     "execution_count": 3,
     "metadata": {},
     "output_type": "execute_result"
    }
   ],
   "source": [
    "HockeyPoolEntry(\n",
    "    name=-1,\n",
    "    teams=-2,\n",
    "    prediction=-3,\n",
    ")"
   ]
  },
  {
   "cell_type": "markdown",
   "metadata": {},
   "source": [
    "## Add some validation"
   ]
  },
  {
   "cell_type": "code",
   "execution_count": 4,
   "metadata": {},
   "outputs": [],
   "source": [
    "class HockeyPoolEntry:\n",
    "    \n",
    "    def __init__(self, name, teams, prediction):\n",
    "        \"\"\"Entry for Franklin's 2020 Hockey Pool\n",
    "        \n",
    "        Inputs:\n",
    "        \n",
    "        name - str - user name\n",
    "        teams - list[str] - three choices of team\n",
    "        prediction - int - predicted total points at end of season\n",
    "        \"\"\"\n",
    "        self.name = validate_name(name)\n",
    "        self.teams = validate_teams(teams)\n",
    "        self.prediction = validate_prediction(prediction)\n",
    "        \n",
    "def validate_name(name):\n",
    "    if not isinstance(name, str):\n",
    "        raise ValueError('name must be string')\n",
    "    return name\n",
    "        \n",
    "def validate_teams(teams):\n",
    "    if not isinstance(teams, list):\n",
    "        raise ValueError('teams must be a list')\n",
    "    if len(teams) != 3:\n",
    "        raise ValueError('teams must length 3')\n",
    "    for team in teams:\n",
    "        if not isinstance(team, str):\n",
    "            raise ValueError('each team must be a string')\n",
    "    return teams\n",
    "        \n",
    "def validate_prediction(prediction):\n",
    "    if not isinstance(prediction, int):\n",
    "        raise ValueError('prediction must be integer')\n",
    "    if prediction < 0:\n",
    "        raise ValueError('prediction must be non-negative')\n",
    "    return prediction"
   ]
  },
  {
   "cell_type": "code",
   "execution_count": 5,
   "metadata": {},
   "outputs": [
    {
     "data": {
      "text/plain": [
       "<__main__.HockeyPoolEntry at 0x7fd234b65250>"
      ]
     },
     "execution_count": 5,
     "metadata": {},
     "output_type": "execute_result"
    }
   ],
   "source": [
    "HockeyPoolEntry(\n",
    "    name='Franklin',\n",
    "    teams=['Flames', 'Oilers', 'Jets'],\n",
    "    prediction=700,\n",
    ")"
   ]
  },
  {
   "cell_type": "code",
   "execution_count": 6,
   "metadata": {},
   "outputs": [
    {
     "ename": "ValueError",
     "evalue": "name must be string",
     "output_type": "error",
     "traceback": [
      "\u001b[0;31m---------------------------------------------------------------------------\u001b[0m",
      "\u001b[0;31mValueError\u001b[0m                                Traceback (most recent call last)",
      "\u001b[0;32m<ipython-input-6-19f1732f91b8>\u001b[0m in \u001b[0;36m<module>\u001b[0;34m\u001b[0m\n\u001b[0;32m----> 1\u001b[0;31m HockeyPoolEntry(\n\u001b[0m\u001b[1;32m      2\u001b[0m     \u001b[0mname\u001b[0m\u001b[0;34m=\u001b[0m\u001b[0;34m-\u001b[0m\u001b[0;36m1\u001b[0m\u001b[0;34m,\u001b[0m\u001b[0;34m\u001b[0m\u001b[0;34m\u001b[0m\u001b[0m\n\u001b[1;32m      3\u001b[0m     \u001b[0mteams\u001b[0m\u001b[0;34m=\u001b[0m\u001b[0;34m-\u001b[0m\u001b[0;36m2\u001b[0m\u001b[0;34m,\u001b[0m\u001b[0;34m\u001b[0m\u001b[0;34m\u001b[0m\u001b[0m\n\u001b[1;32m      4\u001b[0m     \u001b[0mprediction\u001b[0m\u001b[0;34m=\u001b[0m\u001b[0;34m-\u001b[0m\u001b[0;36m3\u001b[0m\u001b[0;34m,\u001b[0m\u001b[0;34m\u001b[0m\u001b[0;34m\u001b[0m\u001b[0m\n\u001b[1;32m      5\u001b[0m )\n",
      "\u001b[0;32m<ipython-input-4-51e86ef53d28>\u001b[0m in \u001b[0;36m__init__\u001b[0;34m(self, name, teams, prediction)\u001b[0m\n\u001b[1;32m     10\u001b[0m         \u001b[0mprediction\u001b[0m \u001b[0;34m-\u001b[0m \u001b[0mint\u001b[0m \u001b[0;34m-\u001b[0m \u001b[0mpredicted\u001b[0m \u001b[0mtotal\u001b[0m \u001b[0mpoints\u001b[0m \u001b[0mat\u001b[0m \u001b[0mend\u001b[0m \u001b[0mof\u001b[0m \u001b[0mseason\u001b[0m\u001b[0;34m\u001b[0m\u001b[0;34m\u001b[0m\u001b[0m\n\u001b[1;32m     11\u001b[0m         \"\"\"\n\u001b[0;32m---> 12\u001b[0;31m         \u001b[0mself\u001b[0m\u001b[0;34m.\u001b[0m\u001b[0mname\u001b[0m \u001b[0;34m=\u001b[0m \u001b[0mvalidate_name\u001b[0m\u001b[0;34m(\u001b[0m\u001b[0mname\u001b[0m\u001b[0;34m)\u001b[0m\u001b[0;34m\u001b[0m\u001b[0;34m\u001b[0m\u001b[0m\n\u001b[0m\u001b[1;32m     13\u001b[0m         \u001b[0mself\u001b[0m\u001b[0;34m.\u001b[0m\u001b[0mteams\u001b[0m \u001b[0;34m=\u001b[0m \u001b[0mvalidate_teams\u001b[0m\u001b[0;34m(\u001b[0m\u001b[0mteams\u001b[0m\u001b[0;34m)\u001b[0m\u001b[0;34m\u001b[0m\u001b[0;34m\u001b[0m\u001b[0m\n\u001b[1;32m     14\u001b[0m         \u001b[0mself\u001b[0m\u001b[0;34m.\u001b[0m\u001b[0mprediction\u001b[0m \u001b[0;34m=\u001b[0m \u001b[0mvalidate_prediction\u001b[0m\u001b[0;34m(\u001b[0m\u001b[0mprediction\u001b[0m\u001b[0;34m)\u001b[0m\u001b[0;34m\u001b[0m\u001b[0;34m\u001b[0m\u001b[0m\n",
      "\u001b[0;32m<ipython-input-4-51e86ef53d28>\u001b[0m in \u001b[0;36mvalidate_name\u001b[0;34m(name)\u001b[0m\n\u001b[1;32m     16\u001b[0m \u001b[0;32mdef\u001b[0m \u001b[0mvalidate_name\u001b[0m\u001b[0;34m(\u001b[0m\u001b[0mname\u001b[0m\u001b[0;34m)\u001b[0m\u001b[0;34m:\u001b[0m\u001b[0;34m\u001b[0m\u001b[0;34m\u001b[0m\u001b[0m\n\u001b[1;32m     17\u001b[0m     \u001b[0;32mif\u001b[0m \u001b[0;32mnot\u001b[0m \u001b[0misinstance\u001b[0m\u001b[0;34m(\u001b[0m\u001b[0mname\u001b[0m\u001b[0;34m,\u001b[0m \u001b[0mstr\u001b[0m\u001b[0;34m)\u001b[0m\u001b[0;34m:\u001b[0m\u001b[0;34m\u001b[0m\u001b[0;34m\u001b[0m\u001b[0m\n\u001b[0;32m---> 18\u001b[0;31m         \u001b[0;32mraise\u001b[0m \u001b[0mValueError\u001b[0m\u001b[0;34m(\u001b[0m\u001b[0;34m'name must be string'\u001b[0m\u001b[0;34m)\u001b[0m\u001b[0;34m\u001b[0m\u001b[0;34m\u001b[0m\u001b[0m\n\u001b[0m\u001b[1;32m     19\u001b[0m     \u001b[0;32mreturn\u001b[0m \u001b[0mname\u001b[0m\u001b[0;34m\u001b[0m\u001b[0;34m\u001b[0m\u001b[0m\n\u001b[1;32m     20\u001b[0m \u001b[0;34m\u001b[0m\u001b[0m\n",
      "\u001b[0;31mValueError\u001b[0m: name must be string"
     ]
    }
   ],
   "source": [
    "HockeyPoolEntry(\n",
    "    name=-1,\n",
    "    teams=-2,\n",
    "    prediction=-3,\n",
    ")"
   ]
  },
  {
   "cell_type": "markdown",
   "metadata": {},
   "source": [
    "## Dataclasses"
   ]
  },
  {
   "cell_type": "code",
   "execution_count": 11,
   "metadata": {},
   "outputs": [],
   "source": [
    "from dataclasses import dataclass\n",
    "from typing import List"
   ]
  },
  {
   "cell_type": "code",
   "execution_count": 12,
   "metadata": {},
   "outputs": [],
   "source": [
    "@dataclass\n",
    "class HockeyPoolEntry:\n",
    "    \"\"\"Entry for Franklin's 2020 Hockey Pool\"\"\"\n",
    "    \n",
    "    name: str         # user name\n",
    "    teams: List[str]  # three choices of team\n",
    "    prediction: int   # predicted total points at end of season"
   ]
  },
  {
   "cell_type": "code",
   "execution_count": 13,
   "metadata": {},
   "outputs": [
    {
     "data": {
      "text/plain": [
       "HockeyPoolEntry(name='Franklin', teams=['Flames', 'Oilers', 'Jets'], prediction=700)"
      ]
     },
     "execution_count": 13,
     "metadata": {},
     "output_type": "execute_result"
    }
   ],
   "source": [
    "HockeyPoolEntry(\n",
    "    name='Franklin',\n",
    "    teams=['Flames', 'Oilers', 'Jets'],\n",
    "    prediction=700,\n",
    ")"
   ]
  },
  {
   "cell_type": "code",
   "execution_count": 14,
   "metadata": {},
   "outputs": [
    {
     "data": {
      "text/plain": [
       "HockeyPoolEntry(name=-1, teams=-2, prediction=-3)"
      ]
     },
     "execution_count": 14,
     "metadata": {},
     "output_type": "execute_result"
    }
   ],
   "source": [
    "HockeyPoolEntry(\n",
    "    name=-1,\n",
    "    teams=-2,\n",
    "    prediction=-3,\n",
    ")"
   ]
  },
  {
   "cell_type": "code",
   "execution_count": 15,
   "metadata": {},
   "outputs": [],
   "source": [
    "@dataclass\n",
    "class HockeyPoolEntry:\n",
    "    \"\"\"Entry for Franklin's 2020 Hockey Pool\"\"\"\n",
    "    \n",
    "    name: str         # user name\n",
    "    teams: List[str]  # three choices of team\n",
    "    prediction: int   # predicted total points at end of season\n",
    "        \n",
    "    def __post_init__(self):\n",
    "        if not isinstance(self.name, str):\n",
    "            raise ValueError('name must be string')\n",
    "        if not isinstance(self.teams, list):\n",
    "            raise ValueError('teams must be a list')\n",
    "        if len(self.teams) != 3:\n",
    "            raise ValueError('teams must length 3')\n",
    "        for team in self.teams:\n",
    "            if not isinstance(team, str):\n",
    "                raise ValueError('each team must be a string')\n",
    "        if not isinstance(self.prediction, int):\n",
    "            raise ValueError('prediction must be integer')\n",
    "        if self.prediction < 0:\n",
    "            raise ValueError('prediction must be non-negative')"
   ]
  },
  {
   "cell_type": "code",
   "execution_count": 16,
   "metadata": {},
   "outputs": [
    {
     "data": {
      "text/plain": [
       "HockeyPoolEntry(name='Franklin', teams=['Flames', 'Oilers', 'Jets'], prediction=700)"
      ]
     },
     "execution_count": 16,
     "metadata": {},
     "output_type": "execute_result"
    }
   ],
   "source": [
    "HockeyPoolEntry(\n",
    "    name='Franklin',\n",
    "    teams=['Flames', 'Oilers', 'Jets'],\n",
    "    prediction=700,\n",
    ")"
   ]
  },
  {
   "cell_type": "code",
   "execution_count": 17,
   "metadata": {},
   "outputs": [
    {
     "ename": "ValueError",
     "evalue": "name must be string",
     "output_type": "error",
     "traceback": [
      "\u001b[0;31m---------------------------------------------------------------------------\u001b[0m",
      "\u001b[0;31mValueError\u001b[0m                                Traceback (most recent call last)",
      "\u001b[0;32m<ipython-input-17-19f1732f91b8>\u001b[0m in \u001b[0;36m<module>\u001b[0;34m\u001b[0m\n\u001b[0;32m----> 1\u001b[0;31m HockeyPoolEntry(\n\u001b[0m\u001b[1;32m      2\u001b[0m     \u001b[0mname\u001b[0m\u001b[0;34m=\u001b[0m\u001b[0;34m-\u001b[0m\u001b[0;36m1\u001b[0m\u001b[0;34m,\u001b[0m\u001b[0;34m\u001b[0m\u001b[0;34m\u001b[0m\u001b[0m\n\u001b[1;32m      3\u001b[0m     \u001b[0mteams\u001b[0m\u001b[0;34m=\u001b[0m\u001b[0;34m-\u001b[0m\u001b[0;36m2\u001b[0m\u001b[0;34m,\u001b[0m\u001b[0;34m\u001b[0m\u001b[0;34m\u001b[0m\u001b[0m\n\u001b[1;32m      4\u001b[0m     \u001b[0mprediction\u001b[0m\u001b[0;34m=\u001b[0m\u001b[0;34m-\u001b[0m\u001b[0;36m3\u001b[0m\u001b[0;34m,\u001b[0m\u001b[0;34m\u001b[0m\u001b[0;34m\u001b[0m\u001b[0m\n\u001b[1;32m      5\u001b[0m )\n",
      "\u001b[0;32m<string>\u001b[0m in \u001b[0;36m__init__\u001b[0;34m(self, name, teams, prediction)\u001b[0m\n",
      "\u001b[0;32m<ipython-input-15-54f0a41ff662>\u001b[0m in \u001b[0;36m__post_init__\u001b[0;34m(self)\u001b[0m\n\u001b[1;32m      9\u001b[0m     \u001b[0;32mdef\u001b[0m \u001b[0m__post_init__\u001b[0m\u001b[0;34m(\u001b[0m\u001b[0mself\u001b[0m\u001b[0;34m)\u001b[0m\u001b[0;34m:\u001b[0m\u001b[0;34m\u001b[0m\u001b[0;34m\u001b[0m\u001b[0m\n\u001b[1;32m     10\u001b[0m         \u001b[0;32mif\u001b[0m \u001b[0;32mnot\u001b[0m \u001b[0misinstance\u001b[0m\u001b[0;34m(\u001b[0m\u001b[0mself\u001b[0m\u001b[0;34m.\u001b[0m\u001b[0mname\u001b[0m\u001b[0;34m,\u001b[0m \u001b[0mstr\u001b[0m\u001b[0;34m)\u001b[0m\u001b[0;34m:\u001b[0m\u001b[0;34m\u001b[0m\u001b[0;34m\u001b[0m\u001b[0m\n\u001b[0;32m---> 11\u001b[0;31m             \u001b[0;32mraise\u001b[0m \u001b[0mValueError\u001b[0m\u001b[0;34m(\u001b[0m\u001b[0;34m'name must be string'\u001b[0m\u001b[0;34m)\u001b[0m\u001b[0;34m\u001b[0m\u001b[0;34m\u001b[0m\u001b[0m\n\u001b[0m\u001b[1;32m     12\u001b[0m         \u001b[0;32mif\u001b[0m \u001b[0;32mnot\u001b[0m \u001b[0misinstance\u001b[0m\u001b[0;34m(\u001b[0m\u001b[0mself\u001b[0m\u001b[0;34m.\u001b[0m\u001b[0mteams\u001b[0m\u001b[0;34m,\u001b[0m \u001b[0mlist\u001b[0m\u001b[0;34m)\u001b[0m\u001b[0;34m:\u001b[0m\u001b[0;34m\u001b[0m\u001b[0;34m\u001b[0m\u001b[0m\n\u001b[1;32m     13\u001b[0m             \u001b[0;32mraise\u001b[0m \u001b[0mValueError\u001b[0m\u001b[0;34m(\u001b[0m\u001b[0;34m'teams must be a list'\u001b[0m\u001b[0;34m)\u001b[0m\u001b[0;34m\u001b[0m\u001b[0;34m\u001b[0m\u001b[0m\n",
      "\u001b[0;31mValueError\u001b[0m: name must be string"
     ]
    }
   ],
   "source": [
    "HockeyPoolEntry(\n",
    "    name=-1,\n",
    "    teams=-2,\n",
    "    prediction=-3,\n",
    ")"
   ]
  },
  {
   "cell_type": "markdown",
   "metadata": {},
   "source": [
    "## Pydantic"
   ]
  },
  {
   "cell_type": "code",
   "execution_count": 18,
   "metadata": {},
   "outputs": [],
   "source": [
    "from pydantic import BaseModel"
   ]
  },
  {
   "cell_type": "code",
   "execution_count": 19,
   "metadata": {},
   "outputs": [],
   "source": [
    "class HockeyPoolEntry(BaseModel):\n",
    "    \"\"\"Entry for Franklin's 2020 Hockey Pool\"\"\"\n",
    "    \n",
    "    name: str         # user name\n",
    "    teams: List[str]  # three choices of team\n",
    "    prediction: int   # predicted total points at end of season"
   ]
  },
  {
   "cell_type": "code",
   "execution_count": 20,
   "metadata": {},
   "outputs": [
    {
     "data": {
      "text/plain": [
       "HockeyPoolEntry(name='Franklin', teams=['Flames', 'Oilers', 'Jets'], prediction=700)"
      ]
     },
     "execution_count": 20,
     "metadata": {},
     "output_type": "execute_result"
    }
   ],
   "source": [
    "HockeyPoolEntry(\n",
    "    name='Franklin',\n",
    "    teams=['Flames', 'Oilers', 'Jets'],\n",
    "    prediction=700,\n",
    ")"
   ]
  },
  {
   "cell_type": "code",
   "execution_count": 21,
   "metadata": {},
   "outputs": [
    {
     "ename": "ValidationError",
     "evalue": "1 validation error for HockeyPoolEntry\nteams\n  value is not a valid list (type=type_error.list)",
     "output_type": "error",
     "traceback": [
      "\u001b[0;31m---------------------------------------------------------------------------\u001b[0m",
      "\u001b[0;31mValidationError\u001b[0m                           Traceback (most recent call last)",
      "\u001b[0;32m<ipython-input-21-19f1732f91b8>\u001b[0m in \u001b[0;36m<module>\u001b[0;34m\u001b[0m\n\u001b[0;32m----> 1\u001b[0;31m HockeyPoolEntry(\n\u001b[0m\u001b[1;32m      2\u001b[0m     \u001b[0mname\u001b[0m\u001b[0;34m=\u001b[0m\u001b[0;34m-\u001b[0m\u001b[0;36m1\u001b[0m\u001b[0;34m,\u001b[0m\u001b[0;34m\u001b[0m\u001b[0;34m\u001b[0m\u001b[0m\n\u001b[1;32m      3\u001b[0m     \u001b[0mteams\u001b[0m\u001b[0;34m=\u001b[0m\u001b[0;34m-\u001b[0m\u001b[0;36m2\u001b[0m\u001b[0;34m,\u001b[0m\u001b[0;34m\u001b[0m\u001b[0;34m\u001b[0m\u001b[0m\n\u001b[1;32m      4\u001b[0m     \u001b[0mprediction\u001b[0m\u001b[0;34m=\u001b[0m\u001b[0;34m-\u001b[0m\u001b[0;36m3\u001b[0m\u001b[0;34m,\u001b[0m\u001b[0;34m\u001b[0m\u001b[0;34m\u001b[0m\u001b[0m\n\u001b[1;32m      5\u001b[0m )\n",
      "\u001b[0;32m~/anaconda3/envs/python38/lib/python3.8/site-packages/pydantic/main.cpython-38-darwin.so\u001b[0m in \u001b[0;36mpydantic.main.BaseModel.__init__\u001b[0;34m()\u001b[0m\n",
      "\u001b[0;31mValidationError\u001b[0m: 1 validation error for HockeyPoolEntry\nteams\n  value is not a valid list (type=type_error.list)"
     ]
    }
   ],
   "source": [
    "HockeyPoolEntry(\n",
    "    name=-1,\n",
    "    teams=-2,\n",
    "    prediction=-3,\n",
    ")"
   ]
  },
  {
   "cell_type": "code",
   "execution_count": 22,
   "metadata": {},
   "outputs": [
    {
     "data": {
      "text/plain": [
       "HockeyPoolEntry(name='Franklin', teams=[], prediction=-10)"
      ]
     },
     "execution_count": 22,
     "metadata": {},
     "output_type": "execute_result"
    }
   ],
   "source": [
    "HockeyPoolEntry(\n",
    "    name='Franklin',\n",
    "    teams=[],\n",
    "    prediction=-10,\n",
    ")"
   ]
  },
  {
   "cell_type": "code",
   "execution_count": 23,
   "metadata": {},
   "outputs": [],
   "source": [
    "from pydantic import Field"
   ]
  },
  {
   "cell_type": "code",
   "execution_count": 27,
   "metadata": {},
   "outputs": [],
   "source": [
    "Field?"
   ]
  },
  {
   "cell_type": "code",
   "execution_count": 25,
   "metadata": {},
   "outputs": [],
   "source": [
    "class HockeyPoolEntry(BaseModel):\n",
    "    \"\"\"Entry for Franklin's 2020 Hockey Pool\"\"\"\n",
    "    \n",
    "    name: str = Field(\n",
    "        ...,\n",
    "        description='user name',\n",
    "    )\n",
    "    teams: List[str] = Field(\n",
    "        ..., \n",
    "        description='team choices', \n",
    "        min_items=3,\n",
    "        max_items=3,\n",
    "    )\n",
    "    prediction: int  = Field(\n",
    "        ...,\n",
    "        description='predicted total points at end of season',\n",
    "        ge=0,\n",
    "    )"
   ]
  },
  {
   "cell_type": "code",
   "execution_count": 26,
   "metadata": {},
   "outputs": [
    {
     "ename": "ValidationError",
     "evalue": "2 validation errors for HockeyPoolEntry\nteams\n  ensure this value has at least 3 items (type=value_error.list.min_items; limit_value=3)\nprediction\n  ensure this value is greater than or equal to 0 (type=value_error.number.not_ge; limit_value=0)",
     "output_type": "error",
     "traceback": [
      "\u001b[0;31m---------------------------------------------------------------------------\u001b[0m",
      "\u001b[0;31mValidationError\u001b[0m                           Traceback (most recent call last)",
      "\u001b[0;32m<ipython-input-26-3bd64c5f7d99>\u001b[0m in \u001b[0;36m<module>\u001b[0;34m\u001b[0m\n\u001b[0;32m----> 1\u001b[0;31m HockeyPoolEntry(\n\u001b[0m\u001b[1;32m      2\u001b[0m     \u001b[0mname\u001b[0m\u001b[0;34m=\u001b[0m\u001b[0;34m'Franklin'\u001b[0m\u001b[0;34m,\u001b[0m\u001b[0;34m\u001b[0m\u001b[0;34m\u001b[0m\u001b[0m\n\u001b[1;32m      3\u001b[0m     \u001b[0mteams\u001b[0m\u001b[0;34m=\u001b[0m\u001b[0;34m[\u001b[0m\u001b[0;34m]\u001b[0m\u001b[0;34m,\u001b[0m\u001b[0;34m\u001b[0m\u001b[0;34m\u001b[0m\u001b[0m\n\u001b[1;32m      4\u001b[0m     \u001b[0mprediction\u001b[0m\u001b[0;34m=\u001b[0m\u001b[0;34m-\u001b[0m\u001b[0;36m10\u001b[0m\u001b[0;34m,\u001b[0m\u001b[0;34m\u001b[0m\u001b[0;34m\u001b[0m\u001b[0m\n\u001b[1;32m      5\u001b[0m )\n",
      "\u001b[0;32m~/anaconda3/envs/python38/lib/python3.8/site-packages/pydantic/main.cpython-38-darwin.so\u001b[0m in \u001b[0;36mpydantic.main.BaseModel.__init__\u001b[0;34m()\u001b[0m\n",
      "\u001b[0;31mValidationError\u001b[0m: 2 validation errors for HockeyPoolEntry\nteams\n  ensure this value has at least 3 items (type=value_error.list.min_items; limit_value=3)\nprediction\n  ensure this value is greater than or equal to 0 (type=value_error.number.not_ge; limit_value=0)"
     ]
    }
   ],
   "source": [
    "HockeyPoolEntry(\n",
    "    name='Franklin',\n",
    "    teams=[],\n",
    "    prediction=-10,\n",
    ")"
   ]
  },
  {
   "cell_type": "code",
   "execution_count": 29,
   "metadata": {},
   "outputs": [
    {
     "data": {
      "text/plain": [
       "HockeyPoolEntry(name='Franklin', teams=['Flames', 'Oilers', 'Jets'], prediction=700)"
      ]
     },
     "execution_count": 29,
     "metadata": {},
     "output_type": "execute_result"
    }
   ],
   "source": [
    "HockeyPoolEntry(\n",
    "    name='Franklin',\n",
    "    teams=['Flames', 'Oilers', 'Jets'],\n",
    "    prediction=700,\n",
    ")"
   ]
  },
  {
   "cell_type": "markdown",
   "metadata": {},
   "source": [
    "# Decorators"
   ]
  },
  {
   "cell_type": "code",
   "execution_count": 30,
   "metadata": {},
   "outputs": [],
   "source": [
    "from dataclasses import dataclass"
   ]
  },
  {
   "cell_type": "code",
   "execution_count": 31,
   "metadata": {},
   "outputs": [],
   "source": [
    "class HockeyPoolEntryUndecorated:\n",
    "    name: str\n",
    "    teams: List[str]\n",
    "    prediction: int"
   ]
  },
  {
   "cell_type": "code",
   "execution_count": 34,
   "metadata": {},
   "outputs": [
    {
     "data": {
      "text/plain": [
       "mappingproxy({'__module__': '__main__',\n",
       "              '__annotations__': {'name': str,\n",
       "               'teams': typing.List[str],\n",
       "               'prediction': int},\n",
       "              '__dict__': <attribute '__dict__' of 'HockeyPoolEntryUndecorated' objects>,\n",
       "              '__weakref__': <attribute '__weakref__' of 'HockeyPoolEntryUndecorated' objects>,\n",
       "              '__doc__': None})"
      ]
     },
     "execution_count": 34,
     "metadata": {},
     "output_type": "execute_result"
    }
   ],
   "source": [
    "HockeyPoolEntryUndecorated.__dict__"
   ]
  },
  {
   "cell_type": "code",
   "execution_count": 33,
   "metadata": {},
   "outputs": [
    {
     "ename": "TypeError",
     "evalue": "HockeyPoolEntryUndecorated() takes no arguments",
     "output_type": "error",
     "traceback": [
      "\u001b[0;31m---------------------------------------------------------------------------\u001b[0m",
      "\u001b[0;31mTypeError\u001b[0m                                 Traceback (most recent call last)",
      "\u001b[0;32m<ipython-input-33-27ddf9a9853c>\u001b[0m in \u001b[0;36m<module>\u001b[0;34m\u001b[0m\n\u001b[0;32m----> 1\u001b[0;31m HockeyPoolEntryUndecorated(\n\u001b[0m\u001b[1;32m      2\u001b[0m     \u001b[0mname\u001b[0m\u001b[0;34m=\u001b[0m\u001b[0;34m'Franklin'\u001b[0m\u001b[0;34m,\u001b[0m\u001b[0;34m\u001b[0m\u001b[0;34m\u001b[0m\u001b[0m\n\u001b[1;32m      3\u001b[0m     \u001b[0mteams\u001b[0m\u001b[0;34m=\u001b[0m\u001b[0;34m[\u001b[0m\u001b[0;34m'Flames'\u001b[0m\u001b[0;34m,\u001b[0m \u001b[0;34m'Oilers'\u001b[0m\u001b[0;34m,\u001b[0m \u001b[0;34m'Jets'\u001b[0m\u001b[0;34m]\u001b[0m\u001b[0;34m,\u001b[0m\u001b[0;34m\u001b[0m\u001b[0;34m\u001b[0m\u001b[0m\n\u001b[1;32m      4\u001b[0m     \u001b[0mprediction\u001b[0m\u001b[0;34m=\u001b[0m\u001b[0;36m700\u001b[0m\u001b[0;34m,\u001b[0m\u001b[0;34m\u001b[0m\u001b[0;34m\u001b[0m\u001b[0m\n\u001b[1;32m      5\u001b[0m )\n",
      "\u001b[0;31mTypeError\u001b[0m: HockeyPoolEntryUndecorated() takes no arguments"
     ]
    }
   ],
   "source": [
    "HockeyPoolEntryUndecorated(\n",
    "    name='Franklin',\n",
    "    teams=['Flames', 'Oilers', 'Jets'],\n",
    "    prediction=700,\n",
    ")"
   ]
  },
  {
   "cell_type": "code",
   "execution_count": null,
   "metadata": {},
   "outputs": [],
   "source": [
    "HockeyPoolEntryUndecorated.name"
   ]
  },
  {
   "cell_type": "code",
   "execution_count": 35,
   "metadata": {},
   "outputs": [],
   "source": [
    "@dataclass\n",
    "class HockeyPoolEntryDecorated:\n",
    "    name: str\n",
    "    teams: List[str]\n",
    "    prediction: int"
   ]
  },
  {
   "cell_type": "code",
   "execution_count": 36,
   "metadata": {},
   "outputs": [
    {
     "data": {
      "text/plain": [
       "HockeyPoolEntryDecorated(name='Franklin', teams=['Flames', 'Oilers', 'Jets'], prediction=700)"
      ]
     },
     "execution_count": 36,
     "metadata": {},
     "output_type": "execute_result"
    }
   ],
   "source": [
    "HockeyPoolEntryDecorated(\n",
    "    name='Franklin',\n",
    "    teams=['Flames', 'Oilers', 'Jets'],\n",
    "    prediction=700,\n",
    ")"
   ]
  },
  {
   "cell_type": "code",
   "execution_count": 37,
   "metadata": {},
   "outputs": [
    {
     "data": {
      "text/plain": [
       "True"
      ]
     },
     "execution_count": 37,
     "metadata": {},
     "output_type": "execute_result"
    }
   ],
   "source": [
    "# Recall, everything is an object, including classes and functions\n",
    "isinstance(HockeyPoolEntryUndecorated, object)"
   ]
  },
  {
   "cell_type": "code",
   "execution_count": null,
   "metadata": {},
   "outputs": [],
   "source": [
    "HockeyPoolEntryDecorated = dataclass(HockeyPoolEntryUndecorated)"
   ]
  },
  {
   "cell_type": "code",
   "execution_count": 38,
   "metadata": {},
   "outputs": [
    {
     "data": {
      "text/plain": [
       "HockeyPoolEntryDecorated(name='Franklin', teams=['Flames', 'Oilers', 'Jets'], prediction=700)"
      ]
     },
     "execution_count": 38,
     "metadata": {},
     "output_type": "execute_result"
    }
   ],
   "source": [
    "HockeyPoolEntryDecorated(\n",
    "    name='Franklin',\n",
    "    teams=['Flames', 'Oilers', 'Jets'],\n",
    "    prediction=700,\n",
    ")"
   ]
  },
  {
   "cell_type": "code",
   "execution_count": null,
   "metadata": {},
   "outputs": [],
   "source": []
  }
 ],
 "metadata": {
  "kernelspec": {
   "display_name": "python38",
   "language": "python",
   "name": "python38"
  },
  "language_info": {
   "codemirror_mode": {
    "name": "ipython",
    "version": 3
   },
   "file_extension": ".py",
   "mimetype": "text/x-python",
   "name": "python",
   "nbconvert_exporter": "python",
   "pygments_lexer": "ipython3",
   "version": "3.8.5"
  }
 },
 "nbformat": 4,
 "nbformat_minor": 4
}
