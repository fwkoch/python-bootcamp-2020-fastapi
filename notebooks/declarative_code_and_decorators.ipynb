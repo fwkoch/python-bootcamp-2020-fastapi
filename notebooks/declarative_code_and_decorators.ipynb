{
 "cells": [
  {
   "cell_type": "markdown",
   "metadata": {},
   "source": [
    "# Declarative Code"
   ]
  },
  {
   "cell_type": "markdown",
   "metadata": {},
   "source": [
    "## Start with \"vanilla\" Python"
   ]
  },
  {
   "cell_type": "code",
   "execution_count": null,
   "metadata": {},
   "outputs": [],
   "source": [
    "class HockeyPoolEntry:\n",
    "    \n",
    "    def __init__(self, name, teams, prediction):\n",
    "        \"\"\"Entry for Franklin's 2020 Hockey Pool\n",
    "        \n",
    "        Inputs:\n",
    "        \n",
    "        name - str - user name\n",
    "        teams - list[str] - three choices of team\n",
    "        prediction - int - predicted total goals at end of season\n",
    "        \"\"\"\n",
    "        self.name = name\n",
    "        self.teams = teams\n",
    "        self.prediction = teams"
   ]
  },
  {
   "cell_type": "code",
   "execution_count": null,
   "metadata": {},
   "outputs": [],
   "source": [
    "HockeyPoolEntry(\n",
    "    name='Franklin',\n",
    "    teams=['Flames', 'Oilers', 'Jets'],\n",
    "    prediction=700,\n",
    ")"
   ]
  },
  {
   "cell_type": "code",
   "execution_count": null,
   "metadata": {},
   "outputs": [],
   "source": [
    "HockeyPoolEntry(\n",
    "    name=-1,\n",
    "    teams=-2,\n",
    "    prediction=-3,\n",
    ")"
   ]
  },
  {
   "cell_type": "markdown",
   "metadata": {},
   "source": [
    "## Add some validation"
   ]
  },
  {
   "cell_type": "code",
   "execution_count": null,
   "metadata": {},
   "outputs": [],
   "source": [
    "class HockeyPoolEntry:\n",
    "    \n",
    "    def __init__(self, name, teams, prediction):\n",
    "        \"\"\"Entry for Franklin's 2020 Hockey Pool\n",
    "        \n",
    "        Inputs:\n",
    "        \n",
    "        name - str - user name\n",
    "        teams - list[str] - three choices of team\n",
    "        prediction - int - predicted total points at end of season\n",
    "        \"\"\"\n",
    "        self.name = validate_name(name)\n",
    "        self.teams = validate_teams(teams)\n",
    "        self.prediction = validate_prediction(prediction)\n",
    "        \n",
    "def validate_name(name):\n",
    "    if not isinstance(name, str):\n",
    "        raise ValueError('name must be string')\n",
    "    return name\n",
    "        \n",
    "def validate_teams(teams):\n",
    "    if not isinstance(teams, list):\n",
    "        raise ValueError('teams must be a list')\n",
    "    if len(teams) != 3:\n",
    "        raise ValueError('teams must length 3')\n",
    "    for team in teams:\n",
    "        if not isinstance(team, str):\n",
    "            raise ValueError('each team must be a string')\n",
    "    return teams\n",
    "        \n",
    "def validate_prediction(prediction):\n",
    "    if not isinstance(prediction, int):\n",
    "        raise ValueError('prediction must be integer')\n",
    "    if prediction < 0:\n",
    "        raise ValueError('prediction must be non-negative')\n",
    "    return prediction"
   ]
  },
  {
   "cell_type": "code",
   "execution_count": null,
   "metadata": {},
   "outputs": [],
   "source": [
    "HockeyPoolEntry(\n",
    "    name='Franklin',\n",
    "    teams=['Flames', 'Oilers', 'Jets'],\n",
    "    prediction=700,\n",
    ")"
   ]
  },
  {
   "cell_type": "code",
   "execution_count": null,
   "metadata": {},
   "outputs": [],
   "source": [
    "HockeyPoolEntry(\n",
    "    name=-1,\n",
    "    teams=-2,\n",
    "    prediction=-3,\n",
    ")"
   ]
  },
  {
   "cell_type": "markdown",
   "metadata": {},
   "source": [
    "## Dataclasses"
   ]
  },
  {
   "cell_type": "code",
   "execution_count": null,
   "metadata": {},
   "outputs": [],
   "source": [
    "from dataclasses import dataclass\n",
    "from typing import List"
   ]
  },
  {
   "cell_type": "code",
   "execution_count": null,
   "metadata": {},
   "outputs": [],
   "source": [
    "@dataclass\n",
    "class HockeyPoolEntry:\n",
    "    \"\"\"Entry for Franklin's 2020 Hockey Pool\"\"\"\n",
    "    \n",
    "    name: str         # user name\n",
    "    teams: List[str]  # three choices of team\n",
    "    prediction: int   # predicted total points at end of season"
   ]
  },
  {
   "cell_type": "code",
   "execution_count": null,
   "metadata": {},
   "outputs": [],
   "source": [
    "HockeyPoolEntry(\n",
    "    name='Franklin',\n",
    "    teams=['Flames', 'Oilers', 'Jets'],\n",
    "    prediction=700,\n",
    ")"
   ]
  },
  {
   "cell_type": "code",
   "execution_count": null,
   "metadata": {},
   "outputs": [],
   "source": [
    "HockeyPoolEntry(\n",
    "    name=-1,\n",
    "    teams=-2,\n",
    "    prediction=-3,\n",
    ")"
   ]
  },
  {
   "cell_type": "code",
   "execution_count": null,
   "metadata": {},
   "outputs": [],
   "source": [
    "@dataclass\n",
    "class HockeyPoolEntry:\n",
    "    \"\"\"Entry for Franklin's 2020 Hockey Pool\"\"\"\n",
    "    \n",
    "    name: str         # user name\n",
    "    teams: List[str]  # three choices of team\n",
    "    prediction: int   # predicted total points at end of season\n",
    "        \n",
    "    def __post_init__(self):\n",
    "        if not isinstance(self.name, str):\n",
    "            raise ValueError('name must be string')\n",
    "        if not isinstance(self.teams, list):\n",
    "            raise ValueError('teams must be a list')\n",
    "        if len(self.teams) != 3:\n",
    "            raise ValueError('teams must length 3')\n",
    "        for team in self.teams:\n",
    "            if not isinstance(team, str):\n",
    "                raise ValueError('each team must be a string')\n",
    "        if not isinstance(self.prediction, int):\n",
    "            raise ValueError('prediction must be integer')\n",
    "        if self.prediction < 0:\n",
    "            raise ValueError('prediction must be non-negative')"
   ]
  },
  {
   "cell_type": "code",
   "execution_count": null,
   "metadata": {},
   "outputs": [],
   "source": [
    "HockeyPoolEntry(\n",
    "    name='Franklin',\n",
    "    teams=['Flames', 'Oilers', 'Jets'],\n",
    "    prediction=700,\n",
    ")"
   ]
  },
  {
   "cell_type": "code",
   "execution_count": null,
   "metadata": {},
   "outputs": [],
   "source": [
    "HockeyPoolEntry(\n",
    "    name=-1,\n",
    "    teams=-2,\n",
    "    prediction=-3,\n",
    ")"
   ]
  },
  {
   "cell_type": "markdown",
   "metadata": {},
   "source": [
    "## Pydantic"
   ]
  },
  {
   "cell_type": "code",
   "execution_count": null,
   "metadata": {},
   "outputs": [],
   "source": [
    "from pydantic import BaseModel"
   ]
  },
  {
   "cell_type": "code",
   "execution_count": null,
   "metadata": {},
   "outputs": [],
   "source": [
    "class HockeyPoolEntry(BaseModel):\n",
    "    \"\"\"Entry for Franklin's 2020 Hockey Pool\"\"\"\n",
    "    \n",
    "    name: str         # user name\n",
    "    teams: List[str]  # three choices of team\n",
    "    prediction: int   # predicted total points at end of season"
   ]
  },
  {
   "cell_type": "code",
   "execution_count": null,
   "metadata": {},
   "outputs": [],
   "source": [
    "HockeyPoolEntry(\n",
    "    name='Franklin',\n",
    "    teams=['Flames', 'Oilers', 'Jets'],\n",
    "    prediction=700,\n",
    ")"
   ]
  },
  {
   "cell_type": "code",
   "execution_count": null,
   "metadata": {},
   "outputs": [],
   "source": [
    "HockeyPoolEntry(\n",
    "    name=-1,\n",
    "    teams=-2,\n",
    "    prediction=-3,\n",
    ")"
   ]
  },
  {
   "cell_type": "code",
   "execution_count": null,
   "metadata": {},
   "outputs": [],
   "source": [
    "HockeyPoolEntry(\n",
    "    name='Franklin',\n",
    "    teams=[],\n",
    "    prediction=-10,\n",
    ")"
   ]
  },
  {
   "cell_type": "code",
   "execution_count": null,
   "metadata": {},
   "outputs": [],
   "source": [
    "from pydantic import Field"
   ]
  },
  {
   "cell_type": "code",
   "execution_count": null,
   "metadata": {},
   "outputs": [],
   "source": [
    "class HockeyPoolEntry(BaseModel):\n",
    "    \"\"\"Entry for Franklin's 2020 Hockey Pool\"\"\"\n",
    "    \n",
    "    name: str = Field(\n",
    "        ...,\n",
    "        description='user name',\n",
    "    )\n",
    "    teams: List[str] = Field(\n",
    "        ..., \n",
    "        description='team choices', \n",
    "        min_items=3,\n",
    "        max_items=3,\n",
    "    )\n",
    "    prediction: int  = Field(\n",
    "        ...,\n",
    "        description='predicted total points at end of season',\n",
    "        ge=0,\n",
    "    )"
   ]
  },
  {
   "cell_type": "code",
   "execution_count": null,
   "metadata": {},
   "outputs": [],
   "source": [
    "HockeyPoolEntry(\n",
    "    name='Franklin',\n",
    "    teams=[],\n",
    "    prediction=-10,\n",
    ")"
   ]
  },
  {
   "cell_type": "code",
   "execution_count": null,
   "metadata": {},
   "outputs": [],
   "source": [
    "HockeyPoolEntry(\n",
    "    name='Franklin',\n",
    "    teams=['Flames', 'Oilers', 'Jets'],\n",
    "    prediction=700,\n",
    ")"
   ]
  },
  {
   "cell_type": "markdown",
   "metadata": {},
   "source": [
    "# Decorators"
   ]
  },
  {
   "cell_type": "code",
   "execution_count": null,
   "metadata": {},
   "outputs": [],
   "source": [
    "from dataclasses import dataclass"
   ]
  },
  {
   "cell_type": "code",
   "execution_count": null,
   "metadata": {},
   "outputs": [],
   "source": [
    "class HockeyPoolEntryUndecorated:\n",
    "    name: str\n",
    "    teams: List[str]\n",
    "    prediction: int"
   ]
  },
  {
   "cell_type": "code",
   "execution_count": null,
   "metadata": {},
   "outputs": [],
   "source": [
    "HockeyPoolEntryUndecorated(\n",
    "    name='Franklin',\n",
    "    teams=['Flames', 'Oilers', 'Jets'],\n",
    "    prediction=700,\n",
    ")"
   ]
  },
  {
   "cell_type": "code",
   "execution_count": null,
   "metadata": {},
   "outputs": [],
   "source": [
    "HockeyPoolEntryUndecorated.name"
   ]
  },
  {
   "cell_type": "code",
   "execution_count": null,
   "metadata": {},
   "outputs": [],
   "source": [
    "@dataclass\n",
    "class HockeyPoolEntryDecorated:\n",
    "    name: str\n",
    "    teams: List[str]\n",
    "    prediction: int"
   ]
  },
  {
   "cell_type": "code",
   "execution_count": null,
   "metadata": {},
   "outputs": [],
   "source": [
    "HockeyPoolEntryDecorated(\n",
    "    name='Franklin',\n",
    "    teams=['Flames', 'Oilers', 'Jets'],\n",
    "    prediction=700,\n",
    ")"
   ]
  },
  {
   "cell_type": "code",
   "execution_count": null,
   "metadata": {},
   "outputs": [],
   "source": [
    "# Recall, everything is an object, including classes and functions\n",
    "isinstance(HockeyPoolEntryUndecorated, object)"
   ]
  },
  {
   "cell_type": "code",
   "execution_count": null,
   "metadata": {},
   "outputs": [],
   "source": [
    "HockeyPoolEntryDecorated = dataclass(HockeyPoolEntryUndecorated)"
   ]
  },
  {
   "cell_type": "code",
   "execution_count": null,
   "metadata": {},
   "outputs": [],
   "source": [
    "HockeyPoolEntryDecorated(\n",
    "    name='Franklin',\n",
    "    teams=['Flames', 'Oilers', 'Jets'],\n",
    "    prediction=700,\n",
    ")"
   ]
  },
  {
   "cell_type": "code",
   "execution_count": null,
   "metadata": {},
   "outputs": [],
   "source": []
  }
 ],
 "metadata": {
  "kernelspec": {
   "display_name": "python38",
   "language": "python",
   "name": "python38"
  },
  "language_info": {
   "codemirror_mode": {
    "name": "ipython",
    "version": 3
   },
   "file_extension": ".py",
   "mimetype": "text/x-python",
   "name": "python",
   "nbconvert_exporter": "python",
   "pygments_lexer": "ipython3",
   "version": "3.8.5"
  }
 },
 "nbformat": 4,
 "nbformat_minor": 4
}
